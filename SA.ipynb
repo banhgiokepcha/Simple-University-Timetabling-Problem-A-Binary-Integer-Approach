{
  "cells": [
    {
      "cell_type": "code",
      "execution_count": 1,
      "id": "a6e7a23d-aaa8-4849-b531-4d23be85904c",
      "metadata": {
        "id": "a6e7a23d-aaa8-4849-b531-4d23be85904c"
      },
      "outputs": [],
      "source": [
        "import random as rd\n",
        "import math\n",
        "from collections import defaultdict\n",
        "from copy import deepcopy"
      ]
    },
    {
      "cell_type": "code",
      "execution_count": 2,
      "id": "9a1f92a1-d0f0-4433-b5b4-8b7e52662c66",
      "metadata": {
        "id": "9a1f92a1-d0f0-4433-b5b4-8b7e52662c66"
      },
      "outputs": [],
      "source": [
        "class Course:\n",
        "    def __init__(self, code, nlesson, teacher, capacity):\n",
        "        self.code = code\n",
        "        self.nlesson = nlesson\n",
        "        self.teacher = teacher\n",
        "        self.capacity = capacity\n",
        "        \n",
        "    def __str__(self):\n",
        "        return f\"{self.code}\""
      ]
    },
    {
      "cell_type": "code",
      "execution_count": 3,
      "id": "2f44d8ba-eec5-4994-a435-54bf3c157fb9",
      "metadata": {
        "id": "2f44d8ba-eec5-4994-a435-54bf3c157fb9"
      },
      "outputs": [],
      "source": [
        "class Room:\n",
        "    def __init__(self, code, capacity):\n",
        "        self.code = code\n",
        "        self.capacity = capacity\n",
        "        \n",
        "    def __str__(self):\n",
        "        return f\"{self.code}\""
      ]
    },
    {
      "cell_type": "code",
      "execution_count": 4,
      "id": "2418fc37-8d0a-44da-8909-ab41da828aae",
      "metadata": {
        "id": "2418fc37-8d0a-44da-8909-ab41da828aae"
      },
      "outputs": [],
      "source": [
        "class Schedule:\n",
        "    def __init__(self, timetable, usedtime):\n",
        "        self.timetable = timetable\n",
        "        self.usedtime = usedtime\n",
        "        \n",
        "    def fitness(self):\n",
        "        error = 0\n",
        "        check = {}\n",
        "        for [day, lesson, room, course] in self.timetable:\n",
        "            if course.capacity > room.capacity:\n",
        "                error += 1\n",
        "            if (day, lesson, room) in check.keys():\n",
        "                error += 1\n",
        "            else:\n",
        "                check[(day, lesson, room)] = 1\n",
        "            if (day, lesson, course.teacher) in check.keys():\n",
        "                error += 1\n",
        "            else:\n",
        "                check[(day, lesson, course.teacher)] = 1\n",
        "            if (day, lesson, course) in check.keys():\n",
        "                error += 1\n",
        "            else:\n",
        "                check[(day, lesson, course)] = 1\n",
        "        fitness = 1.0 / (error + 1)\n",
        "        return fitness\n",
        "\n",
        "    def errors(self):\n",
        "        capacity_error = room_error = teacher_error = course_error = 0\n",
        "        check = {}\n",
        "        for [day, lesson, room, course] in self.timetable:\n",
        "            if course.capacity > room.capacity:\n",
        "                capacity_error += 1\n",
        "            if (day, lesson, room) in check.keys():\n",
        "                room_error += 1\n",
        "            else:\n",
        "                check[(day, lesson, room)] = 1\n",
        "            if (day, lesson, course.teacher) in check.keys():\n",
        "                teacher_error += 1\n",
        "            else:\n",
        "                check[(day, lesson, course.teacher)] = 1\n",
        "            if (day, lesson, course) in check.keys():\n",
        "                course_error += 1\n",
        "            else:\n",
        "                check[(day, lesson, course)] = 1\n",
        "        return [capacity_error, room_error, teacher_error, course_error]"
      ]
    },
    {
      "cell_type": "code",
      "execution_count": 5,
      "id": "cad47419-dcd8-4632-91ef-b7ab05de114b",
      "metadata": {
        "id": "cad47419-dcd8-4632-91ef-b7ab05de114b"
      },
      "outputs": [],
      "source": [
        "with open(\"data/test14.txt\") as f:\n",
        "    lines = f.readlines()"
      ]
    },
    {
      "cell_type": "code",
      "source": [
        "ncourse = int(lines[0].split()[0])\n",
        "nroom = int(lines[0].split()[1])\n",
        "nneighbor = 25\n",
        "nchange = 5"
      ],
      "metadata": {
        "id": "W9WSVlFhE6_Q"
      },
      "id": "W9WSVlFhE6_Q",
      "execution_count": 6,
      "outputs": []
    },
    {
      "cell_type": "code",
      "source": [
        "def random_course(data):\n",
        "    courses = []\n",
        "    cnt = 0\n",
        "    for row in data:\n",
        "        row = row.split()\n",
        "        courses.append(\n",
        "            Course(cnt, int(row[0]), int(row[1]), int(row[2]))\n",
        "        )\n",
        "        cnt += 1\n",
        "    return courses\n",
        "\n",
        "courses = random_course(lines[1:ncourse])\n",
        "\n",
        "def random_room(data):\n",
        "    rooms = []\n",
        "    cnt = 0\n",
        "    for row in data:\n",
        "        row = row.split()\n",
        "        rooms.append(\n",
        "            Room(cnt, int(row[0]))\n",
        "        )\n",
        "        cnt += 1\n",
        "    return rooms\n",
        "\n",
        "rooms = random_room(lines[1 + ncourse:])"
      ],
      "metadata": {
        "id": "lrAD9AidE9s9"
      },
      "id": "lrAD9AidE9s9",
      "execution_count": 7,
      "outputs": []
    },
    {
      "cell_type": "code",
      "execution_count": 8,
      "id": "517ab986-d908-4402-b928-3c9e0923f863",
      "metadata": {
        "id": "517ab986-d908-4402-b928-3c9e0923f863"
      },
      "outputs": [],
      "source": [
        "def init_schedule():\n",
        "    timetable = []\n",
        "    usedtime = defaultdict(int)\n",
        "    for course in courses:\n",
        "        for _ in range(course.nlesson):\n",
        "            element = [\n",
        "                rd.randint(2, 6), \n",
        "                rd.randint(1, 12), \n",
        "                rooms[rd.randint(0, nroom - 1)], \n",
        "                course\n",
        "            ]\n",
        "            timetable.append(element)\n",
        "            usedtime[(element[0], element[1], element[2])] += 1\n",
        "    return Schedule(timetable, usedtime)"
      ]
    },
    {
      "cell_type": "code",
      "execution_count": 9,
      "id": "7c41ba06-351b-48b8-b483-326da6ac80aa",
      "metadata": {
        "id": "7c41ba06-351b-48b8-b483-326da6ac80aa"
      },
      "outputs": [],
      "source": [
        "def localsearch(schedule):\n",
        "    neighbors = []\n",
        "    for _ in range(nneighbor):\n",
        "        timetable = schedule.timetable\n",
        "        usedtime = schedule.usedtime\n",
        "        for _ in range(nchange):\n",
        "            idx = rd.randint(0, len(timetable) - 1)\n",
        "            element = timetable[idx]\n",
        "            while True:\n",
        "                day = rd.randint(2, 6)\n",
        "                lesson = rd.randint(1, 12)\n",
        "                while True:\n",
        "                    room = rooms[rd.randint(0, nroom - 1)]\n",
        "                    if room.capacity >= element[3].capacity:\n",
        "                        break\n",
        "                if usedtime[(day, lesson, room)] == 0:\n",
        "                    usedtime[(element[0], element[1], element[2])] -= 1\n",
        "                    usedtime[(day, lesson, room)] += 1\n",
        "                    timetable[idx] = [day, lesson, room, element[3]]\n",
        "                    break\n",
        "        neighbor = Schedule(timetable, usedtime)\n",
        "        neighbors.append(neighbor)\n",
        "                    \n",
        "    return neighbors"
      ]
    },
    {
      "cell_type": "code",
      "execution_count": 10,
      "id": "419462b0-6080-4504-a784-f527207a9d43",
      "metadata": {
        "id": "419462b0-6080-4504-a784-f527207a9d43"
      },
      "outputs": [],
      "source": [
        "def metropolis(neighbors, s, t):\n",
        "    neighbor = rd.choice(neighbors)\n",
        "    if neighbor.fitness() >= s.fitness():\n",
        "        return neighbor\n",
        "    if rd.random() < math.exp((neighbor.fitness() - s.fitness()) / t):\n",
        "        return neighbor\n",
        "    return s"
      ]
    },
    {
      "cell_type": "code",
      "execution_count": 11,
      "id": "9dc98d59-d38e-485f-a340-3706ffabd65e",
      "metadata": {
        "id": "9dc98d59-d38e-485f-a340-3706ffabd65e"
      },
      "outputs": [],
      "source": [
        "fitnesses = []\n",
        "\n",
        "def stimulated_annealing():\n",
        "    s = init_schedule()\n",
        "    opt = deepcopy(s)\n",
        "    cnt = 1000\n",
        "    for i in range(0, cnt):\n",
        "        t = cnt / 1000\n",
        "        neighbors = localsearch(deepcopy(s))\n",
        "        s = metropolis(neighbors, s, t)\n",
        "        if opt.fitness() < s.fitness():\n",
        "            opt = deepcopy(s)\n",
        "        fitnesses.append(opt.fitness())\n",
        "    return opt"
      ]
    },
    {
      "cell_type": "code",
      "execution_count": null,
      "id": "bd93f71b-611e-468d-86a5-daa0c51a9c79",
      "metadata": {
        "id": "bd93f71b-611e-468d-86a5-daa0c51a9c79"
      },
      "outputs": [],
      "source": [
        "opt = stimulated_annealing()"
      ]
    },
    {
      "cell_type": "code",
      "source": [
        "import matplotlib.pyplot as plt\n",
        "\n",
        "\n",
        "x = range(0, 1000)\n",
        "plt.plot(x, fitnesses, linestyle=\"-\")\n",
        "plt.legend([\"fitness\"])"
      ],
      "metadata": {
        "colab": {
          "base_uri": "https://localhost:8080/",
          "height": 282
        },
        "id": "OEP3NmDCCcWm",
        "outputId": "4816297d-4330-4cdd-9317-0527c60b8230"
      },
      "id": "OEP3NmDCCcWm",
      "execution_count": 38,
      "outputs": [
        {
          "output_type": "execute_result",
          "data": {
            "text/plain": [
              "<matplotlib.legend.Legend at 0x7fb379643190>"
            ]
          },
          "metadata": {},
          "execution_count": 38
        },
        {
          "output_type": "display_data",
          "data": {
            "image/png": "[encoded data removed]",
            "text/plain": [
              "<Figure size 432x288 with 1 Axes>"
            ]
          },
          "metadata": {
            "needs_background": "light"
          }
        }
      ]
    }
  ],
  "metadata": {
    "kernelspec": {
      "display_name": "Python 3",
      "language": "python",
      "name": "python3"
    },
    "language_info": {
      "codemirror_mode": {
        "name": "ipython",
        "version": 3
      },
      "file_extension": ".py",
      "mimetype": "text/x-python",
      "name": "python",
      "nbconvert_exporter": "python",
      "pygments_lexer": "ipython3",
      "version": "3.8.12"
    },
    "colab": {
      "name": "SA.ipynb",
      "provenance": []
    }
  },
  "nbformat": 4,
  "nbformat_minor": 5
}