{
  "cells": [
    {
      "cell_type": "code",
      "execution_count": 1,
      "id": "b385581d-4c53-4dd1-80b6-1bbf2405b023",
      "metadata": {
        "id": "b385581d-4c53-4dd1-80b6-1bbf2405b023"
      },
      "outputs": [],
      "source": [
        "import random as rd\n",
        "from collections import defaultdict\n",
        "import numpy as np"
      ]
    },
    {
      "cell_type": "code",
      "execution_count": 2,
      "id": "4755026d-4563-43de-a760-43b2d1f1b40e",
      "metadata": {
        "id": "4755026d-4563-43de-a760-43b2d1f1b40e"
      },
      "outputs": [],
      "source": [
        "with open(\"data/test14.txt\") as f:\n",
        "    lines = f.readlines()"
      ]
    },
    {
      "cell_type": "code",
      "execution_count": 3,
      "id": "9453f4b9-08f3-4d53-b993-633102411220",
      "metadata": {
        "id": "9453f4b9-08f3-4d53-b993-633102411220"
      },
      "outputs": [],
      "source": [
        "ncourse = int(lines[0].split()[0])\n",
        "nroom = int(lines[0].split()[1])\n",
        "npopulation = 50\n",
        "crossover_rate = 0.8\n",
        "mutate_rate = 0.75\n",
        "nmutate = 8\n",
        "nelite = 8\n",
        "ntournament = 15"
      ]
    },
    {
      "cell_type": "code",
      "execution_count": 4,
      "id": "ebcf6a88-0fe8-4ab8-9053-95808639a23a",
      "metadata": {
        "id": "ebcf6a88-0fe8-4ab8-9053-95808639a23a"
      },
      "outputs": [],
      "source": [
        "class Course:\n",
        "    def __init__(self, code, nlesson, teacher, capacity):\n",
        "        self.code = code\n",
        "        self.nlesson = nlesson\n",
        "        self.teacher = teacher\n",
        "        self.capacity = capacity\n",
        "        \n",
        "    def __str__(self):\n",
        "        return f\"{self.code}\""
      ]
    },
    {
      "cell_type": "code",
      "execution_count": 5,
      "id": "74718d3b-80b9-4fc5-abb4-aa8dde7ebb67",
      "metadata": {
        "id": "74718d3b-80b9-4fc5-abb4-aa8dde7ebb67"
      },
      "outputs": [],
      "source": [
        "class Room:\n",
        "    def __init__(self, code, capacity):\n",
        "        self.code = code\n",
        "        self.capacity = capacity\n",
        "        \n",
        "    def __str__(self):\n",
        "        return f\"{self.code}\""
      ]
    },
    {
      "cell_type": "code",
      "execution_count": 6,
      "id": "d63b2986-ad58-4a16-9fe0-1ffee9b3e4cc",
      "metadata": {
        "id": "d63b2986-ad58-4a16-9fe0-1ffee9b3e4cc"
      },
      "outputs": [],
      "source": [
        "class Schedule:\n",
        "    def __init__(self, timetable, usedtime):\n",
        "        self.timetable = timetable\n",
        "        self.usedtime = usedtime\n",
        "        \n",
        "    def fitness(self):\n",
        "        error = 0\n",
        "        check = {}\n",
        "        for [day, lesson, room, course] in self.timetable:\n",
        "            if course.capacity > room.capacity:\n",
        "                error += 1\n",
        "            if (day, lesson, room) in check.keys():\n",
        "                error += 1\n",
        "            else:\n",
        "                check[(day, lesson, room)] = 1\n",
        "            if (day, lesson, course.teacher) in check.keys():\n",
        "                error += 1\n",
        "            else:\n",
        "                check[(day, lesson, course.teacher)] = 1\n",
        "            if (day, lesson, course) in check.keys():\n",
        "                error += 1\n",
        "            else:\n",
        "                check[(day, lesson, course)] = 1\n",
        "        fitness = 1.0 / (error + 1)\n",
        "        return fitness\n",
        "    \n",
        "    def statistic(self):\n",
        "        days = defaultdict(int)\n",
        "        lessons = defaultdict(int)\n",
        "        rooms = defaultdict(int)\n",
        "        for [day, lesson, room, course] in self.timetable:\n",
        "            rooms[room.code] += 1\n",
        "            lessons[lesson] += 1\n",
        "            days[day] += 1\n",
        "        pdays = [len(self.timetable) / days[i] if days[i] != 0 else 0 for i in range(2, 7)]\n",
        "        ps = sum(pdays)\n",
        "        pdays = [pday / ps for pday in pdays]\n",
        "        plessons = [len(self.timetable) / lessons[i] if lessons[i] != 0 else 0 for i in range(1, 13)]\n",
        "        pl = sum(plessons)\n",
        "        plessons = [plesson / pl for plesson in plessons]\n",
        "        prooms = [len(self.timetable) / rooms[i] if rooms[i] != 0 else 0 for i in range(0, nroom)]\n",
        "        pr = sum(prooms)\n",
        "        prooms = [proom / pr for proom in prooms]\n",
        "        return (pdays, plessons, prooms)\n",
        "    \n",
        "    def errors(self):\n",
        "        capacity_error = room_error = teacher_error = course_error = 0\n",
        "        check = {}\n",
        "        for [day, lesson, room, course] in self.timetable:\n",
        "            if course.capacity > room.capacity:\n",
        "                capacity_error += 1\n",
        "            if (day, lesson, room) in check.keys():\n",
        "                room_error += 1\n",
        "            else:\n",
        "                check[(day, lesson, room)] = 1\n",
        "            if (day, lesson, course.teacher) in check.keys():\n",
        "                teacher_error += 1\n",
        "            else:\n",
        "                check[(day, lesson, course.teacher)] = 1\n",
        "            if (day, lesson, course) in check.keys():\n",
        "                course_error += 1\n",
        "            else:\n",
        "                check[(day, lesson, course)] = 1\n",
        "        return [capacity_error, room_error, teacher_error, course_error]"
      ]
    },
    {
      "cell_type": "code",
      "execution_count": 7,
      "id": "73348598-6864-424b-92bf-76459cc63526",
      "metadata": {
        "id": "73348598-6864-424b-92bf-76459cc63526"
      },
      "outputs": [],
      "source": [
        "def random_course(data):\n",
        "    courses = []\n",
        "    cnt = 0\n",
        "    for row in data:\n",
        "        row = row.split()\n",
        "        courses.append(\n",
        "            Course(cnt, int(row[0]), int(row[1]), int(row[2]))\n",
        "        )\n",
        "        cnt += 1\n",
        "    return courses\n",
        "\n",
        "courses = random_course(lines[1:ncourse])\n",
        "\n",
        "def random_room(data):\n",
        "    rooms = []\n",
        "    cnt = 0\n",
        "    for row in data:\n",
        "        row = row.split()\n",
        "        rooms.append(\n",
        "            Room(cnt, int(row[0]))\n",
        "        )\n",
        "        cnt += 1\n",
        "    return rooms\n",
        "\n",
        "rooms = random_room(lines[1 + ncourse:])"
      ]
    },
    {
      "cell_type": "code",
      "execution_count": 8,
      "id": "ae77e167-9a2f-4b65-8c91-8c8a0b771f12",
      "metadata": {
        "id": "ae77e167-9a2f-4b65-8c91-8c8a0b771f12"
      },
      "outputs": [],
      "source": [
        "def init_schedule():\n",
        "    timetable = []\n",
        "    usedtime = defaultdict(int)\n",
        "    for course in courses:\n",
        "        for _ in range(course.nlesson):\n",
        "            element = [\n",
        "                rd.randint(2, 6), \n",
        "                rd.randint(1, 12), \n",
        "                rooms[rd.randint(0, nroom - 1)], \n",
        "                course\n",
        "            ]\n",
        "            timetable.append(element)\n",
        "            usedtime[(element[0], element[1], element[2])] += 1\n",
        "    return Schedule(timetable, usedtime)\n",
        "\n",
        "def init_population(npopulation):\n",
        "    populations = []\n",
        "    for _ in range(npopulation):\n",
        "        schedule = init_schedule()\n",
        "        populations.append(schedule)\n",
        "    return populations"
      ]
    },
    {
      "cell_type": "code",
      "execution_count": 9,
      "id": "4dbca253-4b51-4524-94f2-86f49a357d3f",
      "metadata": {
        "id": "4dbca253-4b51-4524-94f2-86f49a357d3f"
      },
      "outputs": [],
      "source": [
        "def crossover(populations):\n",
        "    populations = sorted(populations, key=lambda schedule: schedule.fitness(), reverse=True)\n",
        "    for schedule in populations[nelite:]:\n",
        "        # timetable = schedule.timetable\n",
        "        if crossover_rate > rd.random():\n",
        "            tournament_01 = init_population(ntournament)\n",
        "            tournament_01 = sorted(tournament_01, key=lambda schedule: schedule.fitness(), reverse=True)\n",
        "            timetable_01 = tournament_01[0].timetable\n",
        "            tournament_02 = init_population(ntournament)\n",
        "            tournament_02 = sorted(tournament_02, key=lambda schedule: schedule.fitness(), reverse=True)\n",
        "            timetable_02 = tournament_02[0].timetable\n",
        "            timetable = [timetable_01[i] if timetable_01[i][2].capacity >= timetable_01[i][3].capacity else timetable_02[i] for i in range(len(schedule.timetable))]\n",
        "            usedtime = defaultdict(int)\n",
        "            for element in timetable:\n",
        "                if element[2].capacity < element[3].capacity:\n",
        "                    while True:\n",
        "                        room = rooms[rd.randint(0, nroom - 1)]\n",
        "                        if room.capacity >= element[3].capacity:\n",
        "                            element[2] = room\n",
        "                            break\n",
        "                usedtime[(element[0], element[1], element[2])] += 1\n",
        "            schedule.timetable = timetable\n",
        "            schedule.usedtime = usedtime\n",
        "    return populations"
      ]
    },
    {
      "cell_type": "code",
      "execution_count": 10,
      "id": "aa5d4341-a8e4-44cd-9dd5-366999b8a929",
      "metadata": {
        "id": "aa5d4341-a8e4-44cd-9dd5-366999b8a929"
      },
      "outputs": [],
      "source": [
        "def mutate(populations):\n",
        "    populations = sorted(populations, key=lambda schedule: schedule.fitness(), reverse=True)\n",
        "    for schedule in populations[nelite:]:\n",
        "        if mutate_rate > rd.random():\n",
        "            for _ in range(nmutate):\n",
        "                # errors = schedule.errors()\n",
        "                # perrors = [errors[1] + errors[2] + errors[3], errors[1] + errors[2] + errors[3], errors[0] + errors[1]]\n",
        "                # sp = sum(perrors)\n",
        "                # perrors = [perror / sp for perror in perrors]\n",
        "                # factor = np.random.choice(np.arange(1, 4), p=perrors)\n",
        "                # rdcourse = rd.randint(0, len(schedule.timetable) - 1)\n",
        "                # # factor = rd.randint(1, 3)\n",
        "                # if factor == 1:\n",
        "                #     pdays = schedule.statistic()[0]\n",
        "                #     schedule.timetable[rdcourse][0] = np.random.choice(np.arange(2, 7), p=pdays)\n",
        "                # elif factor == 2:\n",
        "                #     plessons = schedule.statistic()[1]\n",
        "                #     schedule.timetable[rdcourse][1] = np.random.choice(np.arange(1, 13), p=plessons)\n",
        "                # else:\n",
        "                #     # prooms = schedule.statistic()[2]\n",
        "                #     while True:\n",
        "                #         room = rooms[rd.randint(0, nroom - 1)]\n",
        "                #         if schedule.timetable[rdcourse][3].capacity <= room.capacity:\n",
        "                #             schedule.timetable[rdcourse][2] = room\n",
        "                #             break\n",
        "                rdcourse = rd.randint(0, len(schedule.timetable) - 1)\n",
        "                if schedule.usedtime[(schedule.timetable[rdcourse][0], schedule.timetable[rdcourse][1], schedule.timetable[rdcourse][2])] == 1:\n",
        "                        continue\n",
        "                while True:\n",
        "                    pdays = schedule.statistic()[0]\n",
        "                    day = np.random.choice(np.arange(2, 7), p=pdays)\n",
        "                    plessons = schedule.statistic()[1]\n",
        "                    lesson = np.random.choice(np.arange(1, 13), p=plessons)\n",
        "                    if schedule.usedtime[(day, lesson, schedule.timetable[rdcourse][2])] == 0:\n",
        "                        schedule.timetable[rdcourse][0] = day\n",
        "                        schedule.timetable[rdcourse][1] = lesson\n",
        "                        schedule.usedtime[(day, lesson, schedule.timetable[rdcourse][2])] += 1\n",
        "                        break\n",
        "                    schedule.timetable[rdcourse][2] = rooms[rd.randint(0, nroom - 1)]\n",
        "    return populations"
      ]
    },
    {
      "cell_type": "code",
      "execution_count": 11,
      "id": "5b70678e-3520-4587-9861-caf92769809c",
      "metadata": {
        "id": "5b70678e-3520-4587-9861-caf92769809c"
      },
      "outputs": [],
      "source": [
        "populations = init_population(npopulation)"
      ]
    },
    {
      "cell_type": "code",
      "execution_count": null,
      "id": "e6bfbe56-2680-4798-89e0-35e315105278",
      "metadata": {
        "tags": [],
        "id": "e6bfbe56-2680-4798-89e0-35e315105278"
      },
      "outputs": [],
      "source": [
        "cnt = 0\n",
        "x = []\n",
        "y1 = []\n",
        "y2 = []\n",
        "y3 = []\n",
        "while populations[0].fitness() != 1.0:\n",
        "    populations = crossover(populations)\n",
        "    populations = mutate(populations)\n",
        "    populations = sorted(populations, key=lambda schedule: schedule.fitness(), reverse=True)\n",
        "    if cnt % 50 == 0:\n",
        "      print(cnt, ' ', populations[0].errors())\n",
        "    if cnt % 1 == 0:\n",
        "        x.append(cnt)\n",
        "        y1.append(populations[0].errors()[1])\n",
        "        y2.append(populations[0].errors()[2])\n",
        "        y3.append(populations[0].errors()[3])\n",
        "    # if cnt % 20 == 0:\n",
        "    #     print(populations[0].errors())\n",
        "    cnt += 1\n",
        "    if cnt == 500:\n",
        "        break"
      ]
    },
    {
      "cell_type": "code",
      "execution_count": 13,
      "id": "2da62ab5-8b16-4e10-8d46-f0fa090923a8",
      "metadata": {
        "id": "2da62ab5-8b16-4e10-8d46-f0fa090923a8"
      },
      "outputs": [],
      "source": [
        "import matplotlib.pyplot as plt"
      ]
    },
    {
      "cell_type": "code",
      "execution_count": 20,
      "id": "f0422a4e-4f81-4006-9054-1f8106dc7be2",
      "metadata": {
        "id": "f0422a4e-4f81-4006-9054-1f8106dc7be2",
        "colab": {
          "base_uri": "https://localhost:8080/",
          "height": 282
        },
        "outputId": "5833b808-7ecc-42ba-88f1-b626039f5d19"
      },
      "outputs": [
        {
          "output_type": "execute_result",
          "data": {
            "text/plain": [
              "<matplotlib.legend.Legend at 0x7f24f3b0ff90>"
            ]
          },
          "metadata": {},
          "execution_count": 20
        },
        {
          "output_type": "display_data",
          "data": {
            "image/png": "[encoded data removed]",
            "text/plain": [
              "<Figure size 432x288 with 1 Axes>"
            ]
          },
          "metadata": {
            "needs_background": "light"
          }
        }
      ],
      "source": [
        "plt.plot(x, y1, linestyle=\"-\")\n",
        "plt.plot(x, y2, linestyle=\"-\")\n",
        "plt.plot(x, y3, linestyle=\"-\")\n",
        "plt.legend([\"room_error\", \"teacher_error\", \"course_error\"])"
      ]
    }
  ],
  "metadata": {
    "kernelspec": {
      "display_name": "Python 3",
      "language": "python",
      "name": "python3"
    },
    "language_info": {
      "codemirror_mode": {
        "name": "ipython",
        "version": 3
      },
      "file_extension": ".py",
      "mimetype": "text/x-python",
      "name": "python",
      "nbconvert_exporter": "python",
      "pygments_lexer": "ipython3",
      "version": "3.8.12"
    },
    "colab": {
      "name": "GA.ipynb",
      "provenance": []
    }
  },
  "nbformat": 4,
  "nbformat_minor": 5
}